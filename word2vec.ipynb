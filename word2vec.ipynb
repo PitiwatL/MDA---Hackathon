{
 "cells": [
  {
   "cell_type": "code",
   "execution_count": 26,
   "metadata": {},
   "outputs": [],
   "source": [
    "import os\n",
    "from sentence_transformers import SentenceTransformer\n",
    "import numpy as np"
   ]
  },
  {
   "cell_type": "code",
   "execution_count": 2,
   "metadata": {},
   "outputs": [],
   "source": [
    "class Config:\n",
    "    def __init__(self):\n",
    "\n",
    "        self.path_base='/nfs/SSD-Data/winworkspace/HacktonMDA/'\n",
    "        self.train=os.path.join(self.path_base,'dataset','train')\n",
    "        \n",
    "\n",
    "    \n",
    "    def __getattribute__(self, name):\n",
    "        return object.__getattribute__(self, name)\n",
    "    \n",
    "config=Config()"
   ]
  },
  {
   "cell_type": "code",
   "execution_count": 4,
   "metadata": {},
   "outputs": [],
   "source": [
    "model = SentenceTransformer('paraphrase-multilingual-MiniLM-L12-v2')"
   ]
  },
  {
   "cell_type": "code",
   "execution_count": null,
   "metadata": {},
   "outputs": [],
   "source": [
    "# sentence1 = \"\"\"ในปี 2566 บริษัทฯ มีต้นทุนขายและบริการ 266.15 ล้านบาท เพิ่มขึ้นจากปี 2565 จา นวน 4.33 ล้านบาท คิดเป็นร้อยละ\n",
    "# 1.65 โดยต้นทุนขายและบริการปรับตัวเพิ่มขึ้นเนื่องจากปริมาณการผลิตที่น้อยลงในไตรมาส 4/2566 ทา ให้ไม่สอดคล้องกับกา ลัง\n",
    "# การผลิตของบริษัท และเกิดจากงานขายบางผลิตภัณฑ์ท่มี ีกา ไรขนั้ ต้นต่า\"\"\"\n",
    "\n",
    "\n",
    "# sentence2=\"\"\"รำยได้จำกส่วนงำนเกมส์และอินโนเวชั่นในไตรมำส 3 ปี 2564 มีจำนวน 12.49 ล้ำนบำท เพิ่มขึ้นจำกปี 2563 จำนวน 9.36 ล้ำนบำท \n",
    "# จำกกำรที่บริษัทฯ ให้บริกำรเกมออนไลน์ Home Sweet Home Survive เมื่อวันที่ 25 มีนำคม 2564 โดยในไตรมำส 2-3 บริษัทฯ \n",
    "# ได้รับรู้รำยเกมเต็มไตรมำส และมีกระแสกำรเล่นที่ดีอย่ำงต่อเนื่อง\"\"\"\n",
    "\n",
    "\n",
    "# sentence3=\"\"\"นอกจากนั้น บริษัทฯ อยู่ระหว่างศึกษาความเป็นไปได้ของการระดมทุนผ่านสินทรัพย์ดิจิทัลทั้งรูปแบบสินทรัพย์ดิจิทัลเพื่อการใช้ประโยชน์ (Utility Token) \n",
    "# และสินทรัพย์ดิจิทัลเพื่อการลงทุน (Asset-backed Token) \n",
    "# เพื่อรองรับการดำเนินธุรกิจที่หลากหลายและการเติบโตในอนาคตของบริษัทฯ อีกด้วย\"\"\"\n",
    "\n",
    "# sentence4=\"\"\"รำยได้จำกระบบกำรพิมพ์ดิจิตอล: ปรับตัวลดลงเล็กน้อย 0.76 ล้านบาท หรือ ร้อยละ 6.3 โดยรายได้ที่ลดลงมาจากลูกค้ากลุ่มอุตสาหกรรมของใช้\n",
    "# ในครัวเรือนเป็นหลัก\"\"\"\n",
    "\n"
   ]
  },
  {
   "cell_type": "code",
   "execution_count": null,
   "metadata": {},
   "outputs": [
    {
     "name": "stdout",
     "output_type": "stream",
     "text": [
      "similarities tensor([[1.0000, 0.4321, 0.2459, 0.4976],\n",
      "        [0.4321, 1.0000, 0.2764, 0.3479],\n",
      "        [0.2459, 0.2764, 1.0000, 0.4093],\n",
      "        [0.4976, 0.3479, 0.4093, 1.0000]])\n"
     ]
    }
   ],
   "source": [
    "# embeddings = model.encode([\n",
    "#     sentence1,\n",
    "#     sentence2,\n",
    "#     sentence3,\n",
    "#     sentence4\n",
    "# ])\n",
    "# similarities = model.similarity(embeddings, embeddings)\n",
    "# print('similarities',similarities)"
   ]
  },
  {
   "cell_type": "code",
   "execution_count": null,
   "metadata": {},
   "outputs": [
    {
     "data": {
      "text/plain": [
       "array([[ 0.03091999, -0.06517132, -0.12138085, ..., -0.16955008,\n",
       "         0.04644654, -0.08127309],\n",
       "       [ 0.11569626, -0.10644965, -0.01280195, ...,  0.08591694,\n",
       "         0.0171406 , -0.01690318],\n",
       "       [-0.01195394,  0.2344915 , -0.26400653, ..., -0.45486742,\n",
       "         0.13735257,  0.0019127 ],\n",
       "       [ 0.08998977,  0.06515547,  0.0230978 , ..., -0.08358197,\n",
       "         0.08248822,  0.15412496]], dtype=float32)"
      ]
     },
     "execution_count": 16,
     "metadata": {},
     "output_type": "execute_result"
    }
   ],
   "source": [
    "# embeddings"
   ]
  },
  {
   "cell_type": "code",
   "execution_count": 20,
   "metadata": {},
   "outputs": [],
   "source": [
    "p0=['ที่',\n",
    " '2',\n",
    " 'S_BoD',\n",
    " '016',\n",
    " '/',\n",
    " '2564',\n",
    " 'วัน',\n",
    " 'ที่',\n",
    " '14',\n",
    " 'พฤษภาคม',\n",
    " '2564',\n",
    " 'เรื่อง',\n",
    " 'คํา',\n",
    " 'อธิบาย',\n",
    " 'และ',\n",
    " 'การ',\n",
    " 'วิเคราะห์',\n",
    " 'ของ',\n",
    " 'ฝ่าย',\n",
    " 'บริหาร',\n",
    " 'เรียน',\n",
    " 'กรรมการ',\n",
    " 'และ',\n",
    " 'ผู้',\n",
    " 'จัดการ',\n",
    " 'ตลาด',\n",
    " 'หลักทรัพย์แห่งประเทศไทย',\n",
    " 'บริษัท',\n",
    " '2เอสเมทัลจํากัด(มหาชน)',\n",
    " 'ขอ',\n",
    " 'ชี้แจง',\n",
    " 'ผล',\n",
    " 'การ',\n",
    " 'ดําเนิน',\n",
    " 'งาน',\n",
    " 'สําหรับ',\n",
    " 'งวด',\n",
    " 'ไตรมา',\n",
    " 'ส',\n",
    " '1',\n",
    " 'สิ้นสุด',\n",
    " 'วัน',\n",
    " 'ที่',\n",
    " '31',\n",
    " 'มีนาคม',\n",
    " '2564',\n",
    " 'บริษัท',\n",
    " 'มีกําไร',\n",
    " 'สุทธิ',\n",
    " 'จํา',\n",
    " 'นวน',\n",
    " '247',\n",
    " '.',\n",
    " '21',\n",
    " 'ล้าน',\n",
    " 'บาท',\n",
    " 'เพิ่ม',\n",
    " 'ขึ้น',\n",
    " 'ร้อย',\n",
    " 'ละ',\n",
    " '90',\n",
    " '.',\n",
    " '86',\n",
    " 'เมื่อ',\n",
    " 'เทียบ',\n",
    " 'กับ',\n",
    " 'ช่วง',\n",
    " 'เวลา',\n",
    " 'เดียว',\n",
    " 'กัน',\n",
    " 'ของ',\n",
    " 'ปี',\n",
    " 'ก่อน',\n",
    " 'โดยสาเหตุ',\n",
    " 'หลัก',\n",
    " 'ของ',\n",
    " 'การ',\n",
    " 'เปลี่ยนแปลง',\n",
    " 'กํา',\n",
    " 'ไร',\n",
    " 'สุทธิ',\n",
    " 'ดัง',\n",
    " 'นี้',\n",
    " '1',\n",
    " '.',\n",
    " 'บริษัทฯ',\n",
    " 'มี',\n",
    " 'ราย',\n",
    " 'ได้',\n",
    " 'จาก',\n",
    " 'การ',\n",
    " 'ขาย',\n",
    " '1',\n",
    " ',',\n",
    " '681',\n",
    " '.',\n",
    " '72',\n",
    " 'ล้าน',\n",
    " 'บาท',\n",
    " 'เพิ่ม',\n",
    " 'ขึ้น',\n",
    " '197',\n",
    " '.',\n",
    " '85',\n",
    " 'ล้าน',\n",
    " 'บาท',\n",
    " 'หรือ',\n",
    " 'เพิ่ม',\n",
    " 'ขึ้น',\n",
    " 'ร้อย',\n",
    " 'ละ',\n",
    " '13',\n",
    " '.',\n",
    " '33',\n",
    " 'เกิด',\n",
    " 'จาก',\n",
    " 'ราคา',\n",
    " 'ขาย',\n",
    " 'เฉลี่ย',\n",
    " 'ที่',\n",
    " 'ปรับ',\n",
    " 'เพิ่ม',\n",
    " 'ขึ้น',\n",
    " 'ร้อย',\n",
    " 'ละ',\n",
    " '28',\n",
    " '.',\n",
    " '20',\n",
    " 'ตาม'\n",
    "]"
   ]
  },
  {
   "cell_type": "code",
   "execution_count": 28,
   "metadata": {},
   "outputs": [],
   "source": [
    "empty=0\n",
    "nan=0\n",
    "valid=0\n",
    "for token in range(len(p0)):\n",
    "    embeddings = model.encode([p0[token]])\n",
    "    if embeddings.size == 0:\n",
    "        empty +=1\n",
    "        # print(f\"Embedding for '{token}' is empty.\")\n",
    "    else:\n",
    "        # Check for NaN values\n",
    "        if np.isnan(embeddings).any():\n",
    "            # print(f\"Embedding for '{token}' contains NaN values.\")\n",
    "            nan +=1\n",
    "        else:\n",
    "            # print(f\"Embedding for '{token}' is valid with shape {embeddings.shape}.\")\n",
    "            valid +=1\n",
    "    \n"
   ]
  },
  {
   "cell_type": "code",
   "execution_count": 29,
   "metadata": {},
   "outputs": [
    {
     "name": "stdout",
     "output_type": "stream",
     "text": [
      "empty 0\n",
      "nan 0\n",
      "valid 129\n"
     ]
    }
   ],
   "source": [
    "print('empty',empty)\n",
    "print('nan',nan)\n",
    "print('valid',valid)"
   ]
  },
  {
   "cell_type": "code",
   "execution_count": null,
   "metadata": {},
   "outputs": [],
   "source": []
  }
 ],
 "metadata": {
  "kernelspec": {
   "display_name": "torchenv",
   "language": "python",
   "name": "python3"
  },
  "language_info": {
   "codemirror_mode": {
    "name": "ipython",
    "version": 3
   },
   "file_extension": ".py",
   "mimetype": "text/x-python",
   "name": "python",
   "nbconvert_exporter": "python",
   "pygments_lexer": "ipython3",
   "version": "3.11.5"
  }
 },
 "nbformat": 4,
 "nbformat_minor": 2
}
